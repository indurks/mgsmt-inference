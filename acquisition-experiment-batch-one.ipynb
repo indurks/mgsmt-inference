{
 "cells": [
  {
   "cell_type": "markdown",
   "metadata": {},
   "source": [
    "# Acquiring Minimalist Grammars using the Z3 SMT-solver.\n",
    "\n",
    "***by Sagar Indurkhya (indurks@mit.edu)***\n",
    "Copyright 2018-2023"
   ]
  },
  {
   "cell_type": "markdown",
   "metadata": {},
   "source": [
    "## Prelude"
   ]
  },
  {
   "cell_type": "code",
   "execution_count": null,
   "metadata": {
    "ExecuteTime": {
     "end_time": "2023-06-04T07:01:27.243927Z",
     "start_time": "2023-06-04T07:01:27.238452Z"
    },
    "run_control": {
     "marked": true
    }
   },
   "outputs": [],
   "source": [
    "# This cell should be uncommented and executed as needed to upgrade dependencies.\n",
    "#!pip -q install -r requirements.txt\n",
    "#!conda install -y pygraphviz"
   ]
  },
  {
   "cell_type": "code",
   "execution_count": null,
   "metadata": {
    "ExecuteTime": {
     "end_time": "2023-06-04T07:01:27.281301Z",
     "start_time": "2023-06-04T07:01:27.246801Z"
    }
   },
   "outputs": [],
   "source": [
    "from IPython.core.display import display, HTML\n",
    "display(HTML(\"<style>.container { width:100% !important; }</style>\"))\n",
    "%config InlineBackend.figure_format = 'retina'"
   ]
  },
  {
   "cell_type": "code",
   "execution_count": null,
   "metadata": {
    "ExecuteTime": {
     "end_time": "2023-06-04T07:01:28.197261Z",
     "start_time": "2023-06-04T07:01:27.284997Z"
    }
   },
   "outputs": [],
   "source": [
    "import itertools, json, pprint as pp, random, traceback\n",
    "\n",
    "import simplejson as json\n",
    "\n",
    "import mgsmt\n",
    "from mgsmt.experiments.inferenceexperiment import InferenceExperiment\n",
    "from mgsmt.experiments.experimentrunner import ParallelExperimentRunner"
   ]
  },
  {
   "cell_type": "markdown",
   "metadata": {},
   "source": [
    "## Acquisition Experiment for Batch One of the PLD"
   ]
  },
  {
   "cell_type": "code",
   "execution_count": null,
   "metadata": {
    "ExecuteTime": {
     "end_time": "2023-06-04T07:01:28.215457Z",
     "start_time": "2023-06-04T07:01:28.199196Z"
    },
    "scrolled": false
   },
   "outputs": [],
   "source": [
    "e = InferenceExperiment(\n",
    "    config_filename=\"experiment-data/primary-linguistic-data.json\",\n",
    "    other_args={\n",
    "        \"display.jupyter-widgets\": True,\n",
    "        \"proc.id\": 0,\n",
    "        \"wisdom\": {},\n",
    "        \"model_values_serialization_filepath\": \"model-values-from-batch-one.json\",\n",
    "        \"selection_feature_labels\": [\"x0\"],\n",
    "        \"licensing_feature_labels\": [\"l\", \"z\"],\n",
    "        \"max_num_overt_pf_connections\": 3,\n",
    "        \"num_overt_lexical_entries_per_form\": 1,\n",
    "        \"num_covert_lexical_entries_per_form\": 5,\n",
    "        \"ics_to_use\": '0-28',\n",
    "    },\n",
    "    verbose=True)"
   ]
  },
  {
   "cell_type": "code",
   "execution_count": null,
   "metadata": {
    "ExecuteTime": {
     "end_time": "2023-06-05T12:06:06.709030Z",
     "start_time": "2023-06-04T07:01:28.217434Z"
    },
    "scrolled": false
   },
   "outputs": [],
   "source": [
    "per = ParallelExperimentRunner(e)\n",
    "per.run(checkpoint_filepath=\"output-checkpoint-for-batch-one.json\", \n",
    "        run_from_checkpoint=False)"
   ]
  },
  {
   "cell_type": "code",
   "execution_count": null,
   "metadata": {
    "ExecuteTime": {
     "end_time": "2023-06-05T12:06:06.717536Z",
     "start_time": "2023-06-05T12:06:06.711138Z"
    }
   },
   "outputs": [],
   "source": [
    "def serialize_inferred_lexicon(inf_exp, output_filename):\n",
    "    lexicon = json.loads(inf_exp.output['final_lexicon'])\n",
    "    with open(output_filename, 'w') as f_out:\n",
    "        json.dump(lexicon, f_out)\n",
    "\n",
    "serialize_inferred_lexicon(e, \"inferred-lexicon-from-batch-one.json\")"
   ]
  },
  {
   "cell_type": "code",
   "execution_count": null,
   "metadata": {
    "ExecuteTime": {
     "end_time": "2023-06-05T12:08:47.704799Z",
     "start_time": "2023-06-05T12:06:06.719622Z"
    },
    "scrolled": false
   },
   "outputs": [],
   "source": [
    "import mgsmt.views.factored_lexicon_view\n",
    "\n",
    "flv = mgsmt.views.factored_lexicon_view.FactoredLexiconLaTeXView(e.grammar)\n",
    "lw_flv = mgsmt.views.LaTeXWidget(flv, \"Factored-Lexicon\", e.logging_img_dir)\n",
    "lw_flv.display()"
   ]
  },
  {
   "cell_type": "markdown",
   "metadata": {},
   "source": [
    "## End of Notebook"
   ]
  }
 ],
 "metadata": {
  "kernelspec": {
   "display_name": "Python 3",
   "language": "python",
   "name": "python3"
  },
  "language_info": {
   "codemirror_mode": {
    "name": "ipython",
    "version": 3
   },
   "file_extension": ".py",
   "mimetype": "text/x-python",
   "name": "python",
   "nbconvert_exporter": "python",
   "pygments_lexer": "ipython3",
   "version": "3.7.7"
  },
  "varInspector": {
   "cols": {
    "lenName": 16,
    "lenType": 16,
    "lenVar": 40
   },
   "kernels_config": {
    "python": {
     "delete_cmd_postfix": "",
     "delete_cmd_prefix": "del ",
     "library": "var_list.py",
     "varRefreshCmd": "print(var_dic_list())"
    },
    "r": {
     "delete_cmd_postfix": ") ",
     "delete_cmd_prefix": "rm(",
     "library": "var_list.r",
     "varRefreshCmd": "cat(var_dic_list()) "
    }
   },
   "types_to_exclude": [
    "module",
    "function",
    "builtin_function_or_method",
    "instance",
    "_Feature"
   ],
   "window_display": false
  }
 },
 "nbformat": 4,
 "nbformat_minor": 2
}
